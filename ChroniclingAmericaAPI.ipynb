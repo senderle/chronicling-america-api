{
 "cells": [
  {
   "cell_type": "code",
   "execution_count": 1,
   "metadata": {},
   "outputs": [
    {
     "name": "stdout",
     "output_type": "stream",
     "text": [
      "http://chroniclingamerica.loc.gov/batches/ct_floyd_ver01.json\n"
     ]
    }
   ],
   "source": [
    "# First, we import the requests library. If you're using Python,\n",
    "# and you want to download things, you should install requests.\n",
    "# You can probably install it by running the following command\n",
    "# at the command line: `pip install requests`.\n",
    "\n",
    "import requests\n",
    "\n",
    "# And for pretty printing...\n",
    "\n",
    "from pprint import pprint\n",
    "\n",
    "# The base url for the Chronicling America API is the `batches`\n",
    "# collection. It contains information about all the batches of\n",
    "# data in the corpus. There are between fifty and sixty pages\n",
    "# of batch information; this downloads the first two and saves\n",
    "# the informational urls for each one.\n",
    "\n",
    "next_batch_page_url = 'http://chroniclingamerica.loc.gov/batches.json'\n",
    "batch_urls = []\n",
    "n = 0\n",
    "\n",
    "# `n` denotes the number of pages downloaded. To download more, \n",
    "# change `2` to a larger value. To download all of them, remove\n",
    "# `and n < 2` entirely. \n",
    "\n",
    "while next_batch_page_url is not None and n < 2:\n",
    "    data = requests.get(next_batch_page_url).json()\n",
    "    next_batch_page_url = data.get('next', None)\n",
    "    new_batch_urls = [b['url'] for b in data['batches']]\n",
    "    batch_urls.extend(new_batch_urls)\n",
    "    n += 1\n",
    "    \n",
    "# Here's the first URL:\n",
    "\n",
    "print(batch_urls[0])"
   ]
  },
  {
   "cell_type": "code",
   "execution_count": 2,
   "metadata": {},
   "outputs": [
    {
     "name": "stdout",
     "output_type": "stream",
     "text": [
      "{'date_issued': '1924-09-02',\n",
      " 'title': {'name': 'New Britain herald.',\n",
      "           'url': 'http://chroniclingamerica.loc.gov/lccn/sn82014519.json'},\n",
      " 'url': 'http://chroniclingamerica.loc.gov/lccn/sn82014519/1924-09-02/ed-1.json'}\n"
     ]
    }
   ],
   "source": [
    "# The data at that location has detailed information about each\n",
    "# of the newspaper issues inside the batch. \n",
    "\n",
    "first_batch_data = requests.get(batch_urls[0]).json()\n",
    "issues = first_batch_data['issues']\n",
    "first_batch_first_issue = issues[0]\n",
    "\n",
    "# The data is stored in a format called JSON. It consists of a \n",
    "# nested structure of maps and sequences. It looks like this:\n",
    "\n",
    "pprint(first_batch_first_issue)\n"
   ]
  },
  {
   "cell_type": "code",
   "execution_count": 3,
   "metadata": {},
   "outputs": [
    {
     "name": "stdout",
     "output_type": "stream",
     "text": [
      "New Britain herald.\n"
     ]
    }
   ],
   "source": [
    "# You can extract the name of the publication...\n",
    "\n",
    "print(first_batch_first_issue['title']['name'])"
   ]
  },
  {
   "cell_type": "code",
   "execution_count": 4,
   "metadata": {},
   "outputs": [
    {
     "name": "stdout",
     "output_type": "stream",
     "text": [
      "http://chroniclingamerica.loc.gov/lccn/sn82014519/1924-09-02/ed-1.json\n"
     ]
    }
   ],
   "source": [
    "# As well as the url where data about this specific issue is stored.\n",
    "\n",
    "print(first_batch_first_issue['url'])"
   ]
  },
  {
   "cell_type": "code",
   "execution_count": 5,
   "metadata": {},
   "outputs": [
    {
     "name": "stdout",
     "output_type": "stream",
     "text": [
      "{'batch': {'name': 'ct_floyd_ver01',\n",
      "           'url': 'http://chroniclingamerica.loc.gov/batches/ct_floyd_ver01.json'},\n",
      " 'date_issued': '1924-09-02',\n",
      " 'edition': 1,\n",
      " 'number': '',\n",
      " 'pages': [{'sequence': 1,\n",
      "            'url': 'http://chroniclingamerica.loc.gov/lccn/sn82014519/1924-09-02/ed-1/seq-1.json'},\n",
      "           {'sequence': 2,\n",
      "            'url': 'http://chroniclingamerica.loc.gov/lccn/sn82014519/1924-09-02/ed-1/seq-2.json'},\n",
      "           {'sequence': 3,\n",
      "            'url': 'http://chroniclingamerica.loc.gov/lccn/sn82014519/1924-09-02/ed-1/seq-3.json'},\n",
      "           {'sequence': 4,\n",
      "            'url': 'http://chroniclingamerica.loc.gov/lccn/sn82014519/1924-09-02/ed-1/seq-4.json'},\n",
      "           {'sequence': 5,\n",
      "            'url': 'http://chroniclingamerica.loc.gov/lccn/sn82014519/1924-09-02/ed-1/seq-5.json'},\n",
      "           {'sequence': 6,\n",
      "            'url': 'http://chroniclingamerica.loc.gov/lccn/sn82014519/1924-09-02/ed-1/seq-6.json'},\n",
      "           {'sequence': 7,\n",
      "            'url': 'http://chroniclingamerica.loc.gov/lccn/sn82014519/1924-09-02/ed-1/seq-7.json'},\n",
      "           {'sequence': 8,\n",
      "            'url': 'http://chroniclingamerica.loc.gov/lccn/sn82014519/1924-09-02/ed-1/seq-8.json'},\n",
      "           {'sequence': 9,\n",
      "            'url': 'http://chroniclingamerica.loc.gov/lccn/sn82014519/1924-09-02/ed-1/seq-9.json'},\n",
      "           {'sequence': 10,\n",
      "            'url': 'http://chroniclingamerica.loc.gov/lccn/sn82014519/1924-09-02/ed-1/seq-10.json'},\n",
      "           {'sequence': 11,\n",
      "            'url': 'http://chroniclingamerica.loc.gov/lccn/sn82014519/1924-09-02/ed-1/seq-11.json'},\n",
      "           {'sequence': 12,\n",
      "            'url': 'http://chroniclingamerica.loc.gov/lccn/sn82014519/1924-09-02/ed-1/seq-12.json'},\n",
      "           {'sequence': 13,\n",
      "            'url': 'http://chroniclingamerica.loc.gov/lccn/sn82014519/1924-09-02/ed-1/seq-13.json'},\n",
      "           {'sequence': 14,\n",
      "            'url': 'http://chroniclingamerica.loc.gov/lccn/sn82014519/1924-09-02/ed-1/seq-14.json'},\n",
      "           {'sequence': 15,\n",
      "            'url': 'http://chroniclingamerica.loc.gov/lccn/sn82014519/1924-09-02/ed-1/seq-15.json'},\n",
      "           {'sequence': 16,\n",
      "            'url': 'http://chroniclingamerica.loc.gov/lccn/sn82014519/1924-09-02/ed-1/seq-16.json'}],\n",
      " 'title': {'name': 'New Britain herald.',\n",
      "           'url': 'http://chroniclingamerica.loc.gov/lccn/sn82014519.json'},\n",
      " 'url': 'http://chroniclingamerica.loc.gov/lccn/sn82014519/1924-09-02/ed-1.json',\n",
      " 'volume': ''}\n"
     ]
    }
   ],
   "source": [
    "# Here we download that information. The `.json()` method takes\n",
    "# JSON formatted text from the server and automatically converts\n",
    "# it into a native Python data structure. \n",
    "\n",
    "issue_data = requests.get(first_batch_first_issue['url']).json()\n",
    "pprint(issue_data)"
   ]
  },
  {
   "cell_type": "code",
   "execution_count": 6,
   "metadata": {},
   "outputs": [
    {
     "name": "stdout",
     "output_type": "stream",
     "text": [
      "{'issue': {'date_issued': '1924-09-02',\n",
      "           'url': 'http://chroniclingamerica.loc.gov/lccn/sn82014519/1924-09-02/ed-1.json'},\n",
      " 'jp2': 'http://chroniclingamerica.loc.gov/lccn/sn82014519/1924-09-02/ed-1/seq-1.jp2',\n",
      " 'ocr': 'http://chroniclingamerica.loc.gov/lccn/sn82014519/1924-09-02/ed-1/seq-1/ocr.xml',\n",
      " 'pdf': 'http://chroniclingamerica.loc.gov/lccn/sn82014519/1924-09-02/ed-1/seq-1.pdf',\n",
      " 'sequence': 1,\n",
      " 'text': 'http://chroniclingamerica.loc.gov/lccn/sn82014519/1924-09-02/ed-1/seq-1/ocr.txt',\n",
      " 'title': {'name': 'New Britain herald.',\n",
      "           'url': 'http://chroniclingamerica.loc.gov/lccn/sn82014519.json'}}\n"
     ]
    }
   ],
   "source": [
    "# To get at the individual page data, we grab the\n",
    "# pages sequence, and pick the first one (that is, \n",
    "# the one at index `0`). Then we grab its URL.\n",
    "\n",
    "first_page_data = issue_data['pages'][0]['url']\n",
    "\n",
    "# Now we can get the information we need about the\n",
    "# individual page:\n",
    "\n",
    "page_ocr = requests.get(first_page_data).json()\n",
    "pprint(page_ocr)"
   ]
  },
  {
   "cell_type": "code",
   "execution_count": 7,
   "metadata": {},
   "outputs": [],
   "source": [
    "# With one final request, we grab the text:\n",
    "\n",
    "first_page_pdf = requests.get(page_ocr['pdf']).content\n",
    "with open('first_page.pdf', 'wb') as outfile:\n",
    "    outfile.write(first_page_pdf)"
   ]
  },
  {
   "cell_type": "code",
   "execution_count": 8,
   "metadata": {},
   "outputs": [
    {
     "name": "stdout",
     "output_type": "stream",
     "text": [
      "IgUAd tsBSBkBSBBtfaBBSsBftrsv A tjsktebbsae assHiBBBBaaBlaatBh& e\n",
      "News of the World\"\n",
      "By Associated Press v\n",
      "Circulation\n",
      "Week Ending 1 A Q C\n",
      "Aug. 30th .. XU)000\n",
      "3\n",
      "ESTABLISHED 1870 v.,:.\n",
      "NEW BRITAIN, CONNECTICUT, TUESDAY, SEPTEMBER 2, 1924. -SIXTEEN PAGES.\n",
      "HIICE\n",
      "ICE THREE CENTS\n",
      "NEW EMIT.\n",
      "SMALLER - AM 770jW HHJIrT.\n",
      "SOME MUTUAL AGREEMENT\n",
      "TO GUARANTEE SECURITY,\n",
      "Prepared To Insist\n",
      "That Disarmament\n",
      "Conferences Be Held\n",
      "Through League Of\n",
      "Nations Only Sec\n",
      "ond Session Is On.\n",
      "By The Associated Press. ' . v\n",
      "Clan mi -a Qt .Tk. -1 1 -\n",
      "tions of Europe, especially the mem\n",
      "ber of the little entente, manifested\n",
      "today their determination to achieve\n",
      "eome International fact which they\n",
      "consider will safeguard their secur\n",
      "ity when they selected Foreign Min\n",
      "ister Duca, of Rumania, to preside\n",
      "over the important deliberations of\n",
      "the third assembly commission\n",
      "which is. to probe the entire prob\n",
      "lem of disarmament and security.\n",
      "There seems here to be a distinct\n",
      "movement, under the apparent lead\n",
      "ership of France, to \n"
     ]
    }
   ],
   "source": [
    "first_page_text = requests.get(page_ocr['text']).text\n",
    "with open('first_page.txt', 'w') as outfile:\n",
    "    outfile.write(first_page_text)\n",
    "print(first_page_text[0:1000])"
   ]
  },
  {
   "cell_type": "code",
   "execution_count": null,
   "metadata": {},
   "outputs": [],
   "source": []
  }
 ],
 "metadata": {
  "kernelspec": {
   "display_name": "Python 3",
   "language": "python",
   "name": "python3"
  },
  "language_info": {
   "codemirror_mode": {
    "name": "ipython",
    "version": 3
   },
   "file_extension": ".py",
   "mimetype": "text/x-python",
   "name": "python",
   "nbconvert_exporter": "python",
   "pygments_lexer": "ipython3",
   "version": "3.6.1"
  }
 },
 "nbformat": 4,
 "nbformat_minor": 1
}
